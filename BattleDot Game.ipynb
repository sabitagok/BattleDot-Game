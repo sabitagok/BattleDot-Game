{
 "cells": [
  {
   "cell_type": "code",
   "execution_count": 16,
   "id": "5701b115",
   "metadata": {},
   "outputs": [],
   "source": [
    "import numpy as np\n",
    "import random as rand\n",
    "\n",
    "def create_grid(): # creates 10x10 grid and randomly place 1 in a spot\n",
    "    grid =np.zeros((10,10))\n",
    "    yCoord = rand.randrange(10) #randomly creating y coordinate\n",
    "    xCoord = rand.randrange(10) #randomly creating x coordinate\n",
    "    grid[yCoord][xCoord]=1 #place 1 randomly to represent a ship\n",
    "    return grid"
   ]
  },
  {
   "cell_type": "code",
   "execution_count": 17,
   "id": "60a88234",
   "metadata": {},
   "outputs": [],
   "source": [
    "lettr_lst=[] #assigning all letters with randomly created grid\n",
    "for i in range(26):\n",
    "    lettr_lst.append(create_grid())\n",
    "#print(lettr_lst)"
   ]
  },
  {
   "cell_type": "code",
   "execution_count": 18,
   "id": "0ce47215",
   "metadata": {},
   "outputs": [],
   "source": [
    "def Bomb(nextPlayer): #randomly guessing where 1 is located on the grid which represent a ship\n",
    "    yCoord = rand.randrange(10)\n",
    "    xCoord = rand.randrange(10)\n",
    "    if(nextPlayer[yCoord][xCoord]==1):  #if guess correctly, return true, others false\n",
    "        return True;\n",
    "    else:\n",
    "        return False;\n"
   ]
  },
  {
   "cell_type": "code",
   "execution_count": 19,
   "id": "bba5a9b4",
   "metadata": {},
   "outputs": [],
   "source": [
    "# the way this code works is that; \n",
    "    # 1. Loop via the list containing the players\n",
    "    # 2. If correctly guess 1 from a player's grid, the player losses\n",
    "    # 3. If a player lost, set everything in grid to zero so that next there is nothing to guess \n",
    "    # 4. the loop terminates when 25 players lost\n",
    "def playGame(): \n",
    "    lstLen=len(lettr_lst)\n",
    "    index=0;\n",
    "    deadPlayers=[]\n",
    "    while len(deadPlayers)<26: #check to terminate the loop\n",
    "        if(Bomb(lettr_lst[index])==True): # Guess the ship of a player at position index\n",
    "            deadPlayers.append(chr(65+index)) # if guess correctly, store the ASCII value of the in deadPlayers list\n",
    "            (lettr_lst[index])[:][:] =0 #set all elements of a player at position index to 0\n",
    "        index=(index+1)%lstLen # update the index\n",
    "    refList=[] \n",
    "    for i in range(26):\n",
    "        refList.append(chr(65+i))\n",
    "    print(\"Players in Order Before the Game Begun:\", refList)\n",
    "    print(\"Deadplayers in Order of Death:\", deadPlayers)\n",
    "    print(\"The Game has Begun\")\n",
    "    for j in deadPlayers: \n",
    "        if(len(refList)==1): #check if there only one player remaining\n",
    "            print( j,\"is the winner!!!\")\n",
    "            break\n",
    "        else:\n",
    "            for k in range(len(refList)): \n",
    "                if j==refList[k]:\n",
    "                    \n",
    "                    print(refList[k-1], \"killed\",j) #print the killer player and the killed player\n",
    "                    del refList[k]  #remove the killed player from the list\n",
    "                    break\n",
    "                    \n",
    "                \n",
    "                    \n",
    "    "
   ]
  },
  {
   "cell_type": "code",
   "execution_count": 20,
   "id": "c8cf1b15",
   "metadata": {},
   "outputs": [
    {
     "name": "stdout",
     "output_type": "stream",
     "text": [
      "Players in Order Before the Game Begun: ['A', 'B', 'C', 'D', 'E', 'F', 'G', 'H', 'I', 'J', 'K', 'L', 'M', 'N', 'O', 'P', 'Q', 'R', 'S', 'T', 'U', 'V', 'W', 'X', 'Y', 'Z']\n",
      "Deadplayers in Order of Death: ['Z', 'M', 'U', 'R', 'B', 'V', 'X', 'Q', 'W', 'O', 'N', 'I', 'D', 'G', 'P', 'F', 'J', 'K', 'C', 'H', 'Y', 'E', 'L', 'S', 'A', 'T']\n",
      "The Game has Begun\n",
      "Y killed Z\n",
      "L killed M\n",
      "T killed U\n",
      "Q killed R\n",
      "A killed B\n",
      "T killed V\n",
      "W killed X\n",
      "P killed Q\n",
      "T killed W\n",
      "N killed O\n",
      "L killed N\n",
      "H killed I\n",
      "C killed D\n",
      "F killed G\n",
      "L killed P\n",
      "E killed F\n",
      "H killed J\n",
      "H killed K\n",
      "A killed C\n",
      "E killed H\n",
      "T killed Y\n",
      "A killed E\n",
      "A killed L\n",
      "A killed S\n",
      "T killed A\n",
      "T is the winner!!!\n"
     ]
    }
   ],
   "source": [
    "a=playGame()"
   ]
  }
 ],
 "metadata": {
  "kernelspec": {
   "display_name": "Python 3",
   "language": "python",
   "name": "python3"
  },
  "language_info": {
   "codemirror_mode": {
    "name": "ipython",
    "version": 3
   },
   "file_extension": ".py",
   "mimetype": "text/x-python",
   "name": "python",
   "nbconvert_exporter": "python",
   "pygments_lexer": "ipython3",
   "version": "3.8.8"
  }
 },
 "nbformat": 4,
 "nbformat_minor": 5
}
